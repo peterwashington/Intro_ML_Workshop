{
  "nbformat": 4,
  "nbformat_minor": 0,
  "metadata": {
    "colab": {
      "name": "Bioe141A_ML_Workshop.ipynb",
      "provenance": [],
      "collapsed_sections": []
    },
    "kernelspec": {
      "name": "python3",
      "display_name": "Python 3"
    }
  },
  "cells": [
    {
      "cell_type": "markdown",
      "metadata": {
        "id": "cp4Oe25iPNgt",
        "colab_type": "text"
      },
      "source": [
        "# **Intro to Machine Learning**\n",
        "\n",
        "In this workshop, we will learn the basics of machine learning. We will start by trying basic annd standardized machine learning techniques with a toy example (part 1) followed by learning how to implement our custom neural networks (part 2). The goal of the workshop is to understand the simplicity of implementing machine learning.\n",
        "\n",
        "**Prerequisites**: Basic knowledge of Python and a basic overview of machine learning fundamentals (e.g., through pre-workshop prep work in conjunction with in-class lecture by Jan and Peter)."
      ]
    },
    {
      "cell_type": "markdown",
      "metadata": {
        "id": "onvwXnaa_PEZ",
        "colab_type": "text"
      },
      "source": [
        "# Part 1: Basic machine learning"
      ]
    },
    {
      "cell_type": "markdown",
      "metadata": {
        "id": "aswCEjGdAo-Z",
        "colab_type": "text"
      },
      "source": [
        "When you are working with small data (such as small vectors and/or only a few training examples), standard machine learning approaches such as support vector machines (SVMs) and logistic regression are often sufficient to solve your problem. Fortunately, Python comes with a convenient library called `scikit-learn` which makes it ridiculously easy to implement basic machine learning techniques. Let's say you have the following training data, which we randomly generate in only 2 lines of code using one of the convenient `scikit-learn` generator functions:\n",
        "\n"
      ]
    },
    {
      "cell_type": "code",
      "metadata": {
        "id": "Qb-H0ZYtBqm3",
        "colab_type": "code",
        "outputId": "fff3bf6e-f463-4df1-f23e-9edf4126680c",
        "colab": {
          "base_uri": "https://localhost:8080/",
          "height": 1000
        }
      },
      "source": [
        "# Generate our training data.\n",
        "\n",
        "from sklearn.datasets.samples_generator import make_blobs\n",
        "X, y = make_blobs(n_samples=100, centers=3, n_features=2)\n",
        "\n",
        "print('Input data: ')\n",
        "print(X)\n",
        "print()\n",
        "print()\n",
        "print()\n",
        "print('Predictive data: ')\n",
        "print(y)"
      ],
      "execution_count": 0,
      "outputs": [
        {
          "output_type": "stream",
          "text": [
            "Input data: \n",
            "[[  7.20373987  -3.71189018]\n",
            " [  6.79367161  -1.98597899]\n",
            " [  6.74842922  -1.49444422]\n",
            " [  5.42243926  -1.14513222]\n",
            " [  9.7055844   -1.0900761 ]\n",
            " [  9.79315977  -2.56446374]\n",
            " [  1.0319485   -8.4111421 ]\n",
            " [ 10.24624641  -0.96590843]\n",
            " [ 10.95692693  -1.59463521]\n",
            " [  5.04084603  -1.30848123]\n",
            " [  3.36599439  -7.91673827]\n",
            " [  2.68842465 -10.09552183]\n",
            " [  2.17267065  -1.10548787]\n",
            " [  5.65592371  -2.84350992]\n",
            " [ 10.49587741  -2.03844519]\n",
            " [ 11.61657341  -3.1821537 ]\n",
            " [  7.85616126  -1.1132728 ]\n",
            " [  1.79133482 -10.3915578 ]\n",
            " [  7.50608275  -2.249433  ]\n",
            " [  3.94604353  -1.81888282]\n",
            " [  3.3696267  -10.21432077]\n",
            " [  4.52035743  -1.69873187]\n",
            " [  5.84308801  -3.73764232]\n",
            " [  3.3041451   -8.50053763]\n",
            " [  3.41665252  -7.71370928]\n",
            " [  5.93599542  -4.11981008]\n",
            " [  4.33332608  -2.93242992]\n",
            " [  8.09019651  -2.74684593]\n",
            " [  6.36092562  -1.71974839]\n",
            " [  8.63945077  -1.75730262]\n",
            " [ 10.09862642  -2.66804657]\n",
            " [  5.17285196  -2.17992767]\n",
            " [  9.47732694  -3.66712961]\n",
            " [  2.8093357   -6.42234997]\n",
            " [  4.14600244  -0.66962329]\n",
            " [ 10.65584857  -0.78033978]\n",
            " [  5.38816621  -0.9350871 ]\n",
            " [  2.03941064  -9.64410241]\n",
            " [  1.56345467  -8.56737301]\n",
            " [  2.48855864  -7.76429857]\n",
            " [ 11.43525032  -1.43767624]\n",
            " [  2.860329    -8.80152698]\n",
            " [  7.96971788  -2.60991526]\n",
            " [  9.62614865  -2.0184325 ]\n",
            " [ 10.01442203  -3.91149017]\n",
            " [  4.18294818  -9.17708931]\n",
            " [  5.180028    -3.84568768]\n",
            " [  2.58681709  -8.23290891]\n",
            " [ 10.26619139  -2.47438783]\n",
            " [  3.34921555  -8.50447927]\n",
            " [  1.64162011  -7.64704511]\n",
            " [  8.57891085   0.52716744]\n",
            " [  9.87839855  -3.33497088]\n",
            " [  4.24862049  -0.24705622]\n",
            " [  1.83060644 -11.19948028]\n",
            " [ 10.17026613  -2.92401303]\n",
            " [  0.97759204  -8.25379749]\n",
            " [  5.79036959  -2.35446091]\n",
            " [  6.09613846  -1.43959341]\n",
            " [  0.66938593  -8.60103233]\n",
            " [  3.13248208  -5.57447196]\n",
            " [  2.93534403  -9.39407195]\n",
            " [  2.972073    -9.46402615]\n",
            " [  3.38836086  -1.46715566]\n",
            " [  4.66288485  -8.20532934]\n",
            " [  9.66251636  -3.721639  ]\n",
            " [  4.62007938  -2.94414032]\n",
            " [  3.96627251   0.5080538 ]\n",
            " [  7.51032651  -1.35946072]\n",
            " [ 11.14088425  -2.38517862]\n",
            " [  6.59074224  -2.17379515]\n",
            " [ 10.15573087  -3.10968163]\n",
            " [  2.55640657  -8.7397493 ]\n",
            " [  1.60396294 -10.9139205 ]\n",
            " [  6.67494696  -1.24994235]\n",
            " [  2.86333872  -8.59899268]\n",
            " [  4.54810999   0.03970749]\n",
            " [ 10.3355199   -3.82037478]\n",
            " [  5.24814739  -2.7373602 ]\n",
            " [  1.59978764  -7.92653047]\n",
            " [  4.1980839   -8.82929781]\n",
            " [ 10.37306808  -3.96674162]\n",
            " [  8.95591134  -1.84296337]\n",
            " [  9.84500287  -2.80136189]\n",
            " [ 10.18145518  -2.85169527]\n",
            " [  8.88088719  -5.2445315 ]\n",
            " [  0.5355213   -7.20542721]\n",
            " [ 10.62037698  -3.16339734]\n",
            " [  1.94171969  -9.42418906]\n",
            " [  9.18389237  -0.99257248]\n",
            " [  5.08340627  -2.23209358]\n",
            " [  1.71710595  -9.96267138]\n",
            " [  5.7475651   -4.1188375 ]\n",
            " [  3.66201295  -9.17590809]\n",
            " [  5.77158294  -1.5115245 ]\n",
            " [  2.32517752  -8.15106734]\n",
            " [  9.29454529  -2.67258133]\n",
            " [  9.66569182  -2.86778614]\n",
            " [ 11.16304887  -2.8156859 ]\n",
            " [  9.71614195  -3.84780547]]\n",
            "\n",
            "\n",
            "\n",
            "Predictive data: \n",
            "[0 0 0 0 2 2 1 2 2 0 1 1 0 0 2 2 2 1 0 0 1 0 0 1 1 0 0 2 0 2 2 0 2 1 0 2 0\n",
            " 1 1 1 2 1 0 2 2 1 0 1 2 1 1 0 2 0 1 2 1 0 0 1 1 1 1 0 1 2 0 0 0 2 0 2 1 1\n",
            " 0 1 0 2 0 1 1 2 2 2 2 2 1 2 1 2 0 1 0 1 0 1 2 2 2 2]\n"
          ],
          "name": "stdout"
        }
      ]
    },
    {
      "cell_type": "markdown",
      "metadata": {
        "id": "6VAMWOmZGIKL",
        "colab_type": "text"
      },
      "source": [
        "Let's visualize the data on a plot. The first component of each input x vector is plotted on the x-axis while the second component of each input x vector is plotted on the y-axis. The dots are colored by their y-value (or \"class\"). The goal of machine learning is to predict the class from the input X vector. "
      ]
    },
    {
      "cell_type": "code",
      "metadata": {
        "id": "uFwS2EIZFMCC",
        "colab_type": "code",
        "outputId": "aca04f69-b297-4b01-be87-d17c6dcc101f",
        "colab": {
          "base_uri": "https://localhost:8080/",
          "height": 279
        }
      },
      "source": [
        "import matplotlib.pyplot as plt\n",
        "import pandas as pd\n",
        "\n",
        "%matplotlib inline\n",
        "\n",
        "df = pd.DataFrame(dict(x=X[:,0], y=X[:,1], label=y))\n",
        "colors = {0:'red', 1:'blue', 2:'green'}\n",
        "fig, ax = plt.subplots()\n",
        "grouped = df.groupby('label')\n",
        "for key, group in grouped:\n",
        "    group.plot(ax=ax, kind='scatter', x='x', y='y', label=key, color=colors[key])\n",
        "plt.show()"
      ],
      "execution_count": 0,
      "outputs": [
        {
          "output_type": "display_data",
          "data": {
            "image/png": "[encoded data removed]",
            "text/plain": [
              "<Figure size 432x288 with 1 Axes>"
            ]
          },
          "metadata": {
            "tags": []
          }
        }
      ]
    },
    {
      "cell_type": "markdown",
      "metadata": {
        "id": "n8pLk7GgHEqi",
        "colab_type": "text"
      },
      "source": [
        "**Exercise 1:** Let's say you trained your machine learning model with the above \"training data\". If you were given a new point (0, 0) and wanted to predict its class, which class would you predict based on the plot above?"
      ]
    },
    {
      "cell_type": "markdown",
      "metadata": {
        "id": "SHwF_-oJCbRZ",
        "colab_type": "text"
      },
      "source": [
        "Let's say we want to predict the class (0, 1, or 2) based on a 2 element X vector. We can use any machine learning method we want to predict the class from any arbitrary x input vector. First, let's try one technique, the Support Vector Machine (SVM), for this task. The code to train the model is literally this easy:\n",
        "\n"
      ]
    },
    {
      "cell_type": "code",
      "metadata": {
        "id": "M90ZfmQFCpY6",
        "colab_type": "code",
        "outputId": "d87bce5b-c38b-4d15-b981-76481f8e84cb",
        "colab": {
          "base_uri": "https://localhost:8080/",
          "height": 85
        }
      },
      "source": [
        "from sklearn import svm\n",
        "\n",
        "clf = svm.SVC(gamma='scale')\n",
        "clf.fit(X, y) "
      ],
      "execution_count": 0,
      "outputs": [
        {
          "output_type": "execute_result",
          "data": {
            "text/plain": [
              "SVC(C=1.0, cache_size=200, class_weight=None, coef0=0.0,\n",
              "    decision_function_shape='ovr', degree=3, gamma='scale', kernel='rbf',\n",
              "    max_iter=-1, probability=False, random_state=None, shrinking=True,\n",
              "    tol=0.001, verbose=False)"
            ]
          },
          "metadata": {
            "tags": []
          },
          "execution_count": 10
        }
      ]
    },
    {
      "cell_type": "markdown",
      "metadata": {
        "id": "7oTfB7BfER-4",
        "colab_type": "text"
      },
      "source": [
        "Now, we can predict the output given a test input:"
      ]
    },
    {
      "cell_type": "code",
      "metadata": {
        "id": "L09EejPjEcAg",
        "colab_type": "code",
        "outputId": "cd35798a-9847-4a47-e3b5-0039fec15439",
        "colab": {
          "base_uri": "https://localhost:8080/",
          "height": 34
        }
      },
      "source": [
        "clf.predict([[10, -2]])"
      ],
      "execution_count": 0,
      "outputs": [
        {
          "output_type": "execute_result",
          "data": {
            "text/plain": [
              "array([2])"
            ]
          },
          "metadata": {
            "tags": []
          },
          "execution_count": 12
        }
      ]
    },
    {
      "cell_type": "markdown",
      "metadata": {
        "id": "r1qMQub7Ejem",
        "colab_type": "text"
      },
      "source": [
        "Yay! Given a dataset, we were able to \"do machine learning\" in only 3 lines of code! You can also predict the class of multiple vectors at once:"
      ]
    },
    {
      "cell_type": "code",
      "metadata": {
        "id": "rjeykvf4ExhI",
        "colab_type": "code",
        "outputId": "8533335e-d0fb-4d2c-e6ad-9d406a3c3519",
        "colab": {
          "base_uri": "https://localhost:8080/",
          "height": 34
        }
      },
      "source": [
        "clf.predict([[-10.5, 2.3],\n",
        "             [3.5, -100.2],\n",
        "             [100, 101]])"
      ],
      "execution_count": 0,
      "outputs": [
        {
          "output_type": "execute_result",
          "data": {
            "text/plain": [
              "array([0, 0, 0])"
            ]
          },
          "metadata": {
            "tags": []
          },
          "execution_count": 13
        }
      ]
    },
    {
      "cell_type": "markdown",
      "metadata": {
        "id": "Um_lZJLfHbtk",
        "colab_type": "text"
      },
      "source": [
        "**Exercise 2:** Do these predictions make sense based on the plot of the data? Why or why not? Test a few other input vectors that you predict the SVM will predict as 0, 1, and 2 (each)."
      ]
    },
    {
      "cell_type": "code",
      "metadata": {
        "id": "t_ILVXGPKC4h",
        "colab_type": "code",
        "colab": {}
      },
      "source": [
        "### YOUR CODE HERE ###\n"
      ],
      "execution_count": 0,
      "outputs": []
    },
    {
      "cell_type": "markdown",
      "metadata": {
        "id": "Shm6nltHHm-n",
        "colab_type": "text"
      },
      "source": [
        "**Exercise 3:** Google the `scikit-learn` documentation to figure out how to implement logistric regression, linear regression, and decision tree classifiers. For all of these classifiers, predict the class of the same input vectors you used in Exercise 2."
      ]
    },
    {
      "cell_type": "code",
      "metadata": {
        "id": "dmQ1QK_vKGQY",
        "colab_type": "code",
        "outputId": "f8ae5fe0-12fa-4f22-b434-a07584035ce2",
        "colab": {
          "base_uri": "https://localhost:8080/",
          "height": 34
        }
      },
      "source": [
        "### YOUR CODE HERE ###\n",
        "from sklearn.linear_model import LogisticRegression\n",
        "\n",
        "clf = LogisticRegression(random_state=0, solver='lbfgs', multi_class='multinomial').fit(X, y)\n",
        "clf.fit(X, y) \n",
        "clf.predict([[10, -2]])"
      ],
      "execution_count": 0,
      "outputs": [
        {
          "output_type": "execute_result",
          "data": {
            "text/plain": [
              "array([2])"
            ]
          },
          "metadata": {
            "tags": []
          },
          "execution_count": 18
        }
      ]
    },
    {
      "cell_type": "markdown",
      "metadata": {
        "id": "d_a1xKrHJ-ZR",
        "colab_type": "text"
      },
      "source": [
        "**Exercise 4:** Using the code for generating the sample dataset as a starting place, (1) generate a dataset with 5000 examples (instead of 100) and 50 features (instead of 2). Note that unlike when using training data with 2 dimensions, it is very difficult (or impossible) to visualize input data with 50 features (unless you use a family of techniques called \"dimensionality reduction\" which is beyond the scope of this workshop)."
      ]
    },
    {
      "cell_type": "code",
      "metadata": {
        "id": "px_bCVWaKG-y",
        "colab_type": "code",
        "colab": {}
      },
      "source": [
        "### YOUR CODE HERE ###\n"
      ],
      "execution_count": 0,
      "outputs": []
    },
    {
      "cell_type": "markdown",
      "metadata": {
        "id": "D9xI9j5SLBHW",
        "colab_type": "text"
      },
      "source": [
        "**Exercise 5:** Split your training set above such that 80% are allocated for training and 20% are allocated for testing. Retrain using the 4 different classifiers. Based on the performance on the test set, which classifier performs the best?\n",
        "\n"
      ]
    },
    {
      "cell_type": "code",
      "metadata": {
        "id": "wzoboBWHLDvV",
        "colab_type": "code",
        "colab": {}
      },
      "source": [
        "### YOUR CODE HERE ###\n"
      ],
      "execution_count": 0,
      "outputs": []
    },
    {
      "cell_type": "markdown",
      "metadata": {
        "id": "mL-TcxT8_WfT",
        "colab_type": "text"
      },
      "source": [
        "# Part 2: Neural Networks\n",
        "\n",
        "Sometimes, you have a lot of data from which you can train. Furthermore, these data may contain several features/complexities (like the 50-dimensional dataset you generated above). Fortunately, neural networks are able to scale appropriately to the size of the dataset and can handle arbitrarily big data in theory. As a result, deep learning has taken over as the go-to method for any BIG data problem.\n",
        "\n",
        "Note: If you are collecting your own datasets for this class, it is likely that your dataset will be much too small for a neural network. You have two options in this case: (1) use the simpler classifiers covered in Part 1 of this tutorial or (2) use techniques called \"data augmentation\" and \"transfer learning\" and then use a neural network (these techniques are beyond the scope of this workshop but ask the course staff if you need help implementing this).\n",
        "\n",
        "In this part of the workshop, we will predict handwritten digits from images. The inputs in this case are matrices representing the content of the corresponding image. We are using black and white images, where 0 indicates the color \"black\" and 1 indiicates the color \"white\".  The output in this case is a digit (0 through 9) representing the digit represented by the dataset.\n",
        "\n",
        "To \"do deep learning\", we will use a very convenient Python library called `keras`. Let's start by importing `keras`, which conveniently comes with a handwritten dataset loaded in:"
      ]
    },
    {
      "cell_type": "code",
      "metadata": {
        "id": "JPvBbue9NxcI",
        "colab_type": "code",
        "outputId": "fca60bf8-a0d3-4d3e-ecef-e72b3d65d8b7",
        "colab": {
          "base_uri": "https://localhost:8080/",
          "height": 80
        }
      },
      "source": [
        "# Import statements.\n",
        "import numpy as np\n",
        "import matplotlib\n",
        "matplotlib.use('agg')\n",
        "import matplotlib.pyplot as plt\n",
        "import os\n",
        "os.environ['TF_CPP_MIN_LOG_LEVEL']='3'\n",
        "\n",
        "from keras.datasets import mnist\n",
        "from keras.models import Sequential, load_model\n",
        "from keras.layers.core import Dense, Dropout, Activation\n",
        "from keras.layers import Conv2D, MaxPooling2D, Dropout, Flatten\n",
        "from keras.utils import np_utils, to_categorical"
      ],
      "execution_count": 0,
      "outputs": [
        {
          "output_type": "stream",
          "text": [
            "Using TensorFlow backend.\n"
          ],
          "name": "stderr"
        },
        {
          "output_type": "display_data",
          "data": {
            "text/html": [
              "<p style=\"color: red;\">\n",
              "The default version of TensorFlow in Colab will soon switch to TensorFlow 2.x.<br>\n",
              "We recommend you <a href=\"https://www.tensorflow.org/guide/migrate\" target=\"_blank\">upgrade</a> now \n",
              "or ensure your notebook will continue to use TensorFlow 1.x via the <code>%tensorflow_version 1.x</code> magic:\n",
              "<a href=\"https://colab.research.google.com/notebooks/tensorflow_version.ipynb\" target=\"_blank\">more info</a>.</p>\n"
            ],
            "text/plain": [
              "<IPython.core.display.HTML object>"
            ]
          },
          "metadata": {
            "tags": []
          }
        }
      ]
    },
    {
      "cell_type": "markdown",
      "metadata": {
        "id": "iBPyzidWNrn0",
        "colab_type": "text"
      },
      "source": [
        "Now, let's load in the handwritten dataset (called \"MNIST\"):"
      ]
    },
    {
      "cell_type": "code",
      "metadata": {
        "id": "udAowuS7O3pl",
        "colab_type": "code",
        "colab": {}
      },
      "source": [
        "(X_train, y_train), (X_test, y_test) = mnist.load_data()"
      ],
      "execution_count": 0,
      "outputs": []
    },
    {
      "cell_type": "markdown",
      "metadata": {
        "id": "ocKDnFg3NxU1",
        "colab_type": "text"
      },
      "source": [
        "We can print the dataset to see that these greyscale image data are represented as matrices of 0s and 1s:\n",
        "\n"
      ]
    },
    {
      "cell_type": "code",
      "metadata": {
        "id": "5EZmWIfMO7El",
        "colab_type": "code",
        "outputId": "5157db16-3698-4ebd-c009-93e637919318",
        "colab": {
          "base_uri": "https://localhost:8080/",
          "height": 850
        }
      },
      "source": [
        "print(X_train)"
      ],
      "execution_count": 0,
      "outputs": [
        {
          "output_type": "stream",
          "text": [
            "[[[0 0 0 ... 0 0 0]\n",
            "  [0 0 0 ... 0 0 0]\n",
            "  [0 0 0 ... 0 0 0]\n",
            "  ...\n",
            "  [0 0 0 ... 0 0 0]\n",
            "  [0 0 0 ... 0 0 0]\n",
            "  [0 0 0 ... 0 0 0]]\n",
            "\n",
            " [[0 0 0 ... 0 0 0]\n",
            "  [0 0 0 ... 0 0 0]\n",
            "  [0 0 0 ... 0 0 0]\n",
            "  ...\n",
            "  [0 0 0 ... 0 0 0]\n",
            "  [0 0 0 ... 0 0 0]\n",
            "  [0 0 0 ... 0 0 0]]\n",
            "\n",
            " [[0 0 0 ... 0 0 0]\n",
            "  [0 0 0 ... 0 0 0]\n",
            "  [0 0 0 ... 0 0 0]\n",
            "  ...\n",
            "  [0 0 0 ... 0 0 0]\n",
            "  [0 0 0 ... 0 0 0]\n",
            "  [0 0 0 ... 0 0 0]]\n",
            "\n",
            " ...\n",
            "\n",
            " [[0 0 0 ... 0 0 0]\n",
            "  [0 0 0 ... 0 0 0]\n",
            "  [0 0 0 ... 0 0 0]\n",
            "  ...\n",
            "  [0 0 0 ... 0 0 0]\n",
            "  [0 0 0 ... 0 0 0]\n",
            "  [0 0 0 ... 0 0 0]]\n",
            "\n",
            " [[0 0 0 ... 0 0 0]\n",
            "  [0 0 0 ... 0 0 0]\n",
            "  [0 0 0 ... 0 0 0]\n",
            "  ...\n",
            "  [0 0 0 ... 0 0 0]\n",
            "  [0 0 0 ... 0 0 0]\n",
            "  [0 0 0 ... 0 0 0]]\n",
            "\n",
            " [[0 0 0 ... 0 0 0]\n",
            "  [0 0 0 ... 0 0 0]\n",
            "  [0 0 0 ... 0 0 0]\n",
            "  ...\n",
            "  [0 0 0 ... 0 0 0]\n",
            "  [0 0 0 ... 0 0 0]\n",
            "  [0 0 0 ... 0 0 0]]]\n"
          ],
          "name": "stdout"
        }
      ]
    },
    {
      "cell_type": "markdown",
      "metadata": {
        "id": "zKQnSQgPN_CH",
        "colab_type": "text"
      },
      "source": [
        "Let's view some examples of the images in our dataset:"
      ]
    },
    {
      "cell_type": "code",
      "metadata": {
        "id": "OgZkRcvMPI17",
        "colab_type": "code",
        "outputId": "9a7f7836-9f6c-470d-fd8f-25c60ab4a2bb",
        "colab": {
          "base_uri": "https://localhost:8080/",
          "height": 551
        }
      },
      "source": [
        "fig = plt.figure()\n",
        "for i in range(9):\n",
        "  plt.subplot(3,3,i+1)\n",
        "  plt.tight_layout()\n",
        "  plt.imshow(X_train[i], cmap='gray', interpolation='none')\n",
        "  plt.title(\"Digit: {}\".format(y_train[i]))\n",
        "  plt.xticks([])\n",
        "  plt.yticks([])\n",
        "fig"
      ],
      "execution_count": 0,
      "outputs": [
        {
          "output_type": "execute_result",
          "data": {
            "image/png": "[encoded data removed]",
            "text/plain": [
              "<Figure size 432x288 with 9 Axes>"
            ]
          },
          "metadata": {
            "tags": []
          },
          "execution_count": 40
        },
        {
          "output_type": "display_data",
          "data": {
            "image/png": "[encoded data removed]",
            "text/plain": [
              "<Figure size 432x288 with 9 Axes>"
            ]
          },
          "metadata": {
            "tags": []
          }
        }
      ]
    },
    {
      "cell_type": "markdown",
      "metadata": {
        "id": "P8nYL-MnPMA7",
        "colab_type": "text"
      },
      "source": [
        "Lets view the \"shape\" of the training and test sets:"
      ]
    },
    {
      "cell_type": "code",
      "metadata": {
        "id": "opfPEL20PFPD",
        "colab_type": "code",
        "outputId": "6c01513d-85dc-432d-be15-8f1bbc499558",
        "colab": {
          "base_uri": "https://localhost:8080/",
          "height": 85
        }
      },
      "source": [
        "print(\"X_train shape\", X_train.shape)\n",
        "print(\"y_train shape\", y_train.shape)\n",
        "print(\"X_test shape\", X_test.shape)\n",
        "print(\"y_test shape\", y_test.shape)"
      ],
      "execution_count": 0,
      "outputs": [
        {
          "output_type": "stream",
          "text": [
            "X_train shape (60000, 28, 28)\n",
            "y_train shape (60000,)\n",
            "X_test shape (10000, 28, 28)\n",
            "y_test shape (10000,)\n"
          ],
          "name": "stdout"
        }
      ]
    },
    {
      "cell_type": "markdown",
      "metadata": {
        "id": "vyFDRfzyPHGm",
        "colab_type": "text"
      },
      "source": [
        "We see that the training set has 60,000 images and the testing set has 10,000 images. Each image is a matrix of 1s and 0s with dimensions 28x28 pixels.\n",
        "\n",
        "Let's start the process of putting these images into a neural network! In this case, we will use a standard [Multi-Layer Perceptron (MLP)](https://en.wikipedia.org/wiki/Multilayer_perceptron) network. As we see from [this image](http://rasbt.github.io/mlxtend/user_guide/classifier/NeuralNetMLP_files/neuralnet_mlp_1.png) of a MLP and as we recall from this workshop's lecture, MLP neural networks take a vector in as input. Therefore, let's \"flatten\" our 28x28 input matrices into a single vector (of size 28x28=784):"
      ]
    },
    {
      "cell_type": "code",
      "metadata": {
        "id": "tStlTVZoPqAh",
        "colab_type": "code",
        "outputId": "b14c4ada-337b-46b6-816c-ed0cf7436dad",
        "colab": {
          "base_uri": "https://localhost:8080/",
          "height": 51
        }
      },
      "source": [
        "X_train = X_train.reshape(60000, 784)\n",
        "X_test = X_test.reshape(10000, 784)\n",
        "X_train = X_train.astype('float32')\n",
        "X_test = X_test.astype('float32')\n",
        "X_train /= 255\n",
        "X_test /= 255\n",
        "\n",
        "print(\"Train matrix shape\", X_train.shape)\n",
        "print(\"Test matrix shape\", X_test.shape)"
      ],
      "execution_count": 0,
      "outputs": [
        {
          "output_type": "stream",
          "text": [
            "Train matrix shape (60000, 784)\n",
            "Test matrix shape (10000, 784)\n"
          ],
          "name": "stdout"
        }
      ]
    },
    {
      "cell_type": "markdown",
      "metadata": {
        "id": "bAlCP473RVTy",
        "colab_type": "text"
      },
      "source": [
        "We should convert the y values to categorical variables (since that is what we are predicting):"
      ]
    },
    {
      "cell_type": "code",
      "metadata": {
        "id": "7HFn-zsyRUDK",
        "colab_type": "code",
        "colab": {}
      },
      "source": [
        "y_train = to_categorical(y_train, 10)\n",
        "y_test = to_categorical(y_test, 10)"
      ],
      "execution_count": 0,
      "outputs": []
    },
    {
      "cell_type": "markdown",
      "metadata": {
        "id": "19fYaZzoQ0Xj",
        "colab_type": "text"
      },
      "source": [
        "Let's build a very simple MLP network (sometimes called a \"Dense\" network because each node in any given layer is fully connected to every other node in this next layer):"
      ]
    },
    {
      "cell_type": "code",
      "metadata": {
        "id": "nfhF1e3-PyXD",
        "colab_type": "code",
        "colab": {}
      },
      "source": [
        "model = Sequential()\n",
        "model.add(Dense(512, input_shape=(784,)))\n",
        "model.add(Activation('relu'))                            \n",
        "model.add(Dropout(0.2))\n",
        "\n",
        "model.add(Dense(512))\n",
        "model.add(Activation('relu'))\n",
        "model.add(Dropout(0.2))\n",
        "\n",
        "model.add(Dense(10))\n",
        "model.add(Activation('softmax'))"
      ],
      "execution_count": 0,
      "outputs": []
    },
    {
      "cell_type": "markdown",
      "metadata": {
        "id": "-8jhiPviRAWn",
        "colab_type": "text"
      },
      "source": [
        "We always have to \"compile\" our model:"
      ]
    },
    {
      "cell_type": "code",
      "metadata": {
        "id": "ZsU-RqAMP1cA",
        "colab_type": "code",
        "colab": {}
      },
      "source": [
        "model.compile(loss='categorical_crossentropy', metrics=['accuracy'], optimizer='adam')"
      ],
      "execution_count": 0,
      "outputs": []
    },
    {
      "cell_type": "markdown",
      "metadata": {
        "id": "K929f3bVRIDd",
        "colab_type": "text"
      },
      "source": [
        "Now, let's train the model. We specify the number of \"epochs\", which is the number of passes that are made through the input data during the network training process. We keep some of the data as \"validation\" so we can determine if we ever \"overfit\" the network to the training data. If the validation data, which are not used to train the data, yield a lower accuracy than the training set, we know that the model has overfit to the data."
      ]
    },
    {
      "cell_type": "code",
      "metadata": {
        "id": "zCA9nkvbP37-",
        "colab_type": "code",
        "outputId": "4f317182-e6dc-4cf4-f0bf-4f522509ce05",
        "colab": {
          "base_uri": "https://localhost:8080/",
          "height": 547
        }
      },
      "source": [
        "history = model.fit(X_train, y_train,\n",
        "          batch_size=128, epochs=5,\n",
        "          verbose=2,\n",
        "          validation_data=(X_test, y_test))\n"
      ],
      "execution_count": 0,
      "outputs": [
        {
          "output_type": "stream",
          "text": [
            "WARNING:tensorflow:From /usr/local/lib/python3.6/dist-packages/tensorflow_core/python/ops/math_grad.py:1424: where (from tensorflow.python.ops.array_ops) is deprecated and will be removed in a future version.\n",
            "Instructions for updating:\n",
            "Use tf.where in 2.0, which has the same broadcast rule as np.where\n",
            "WARNING:tensorflow:From /usr/local/lib/python3.6/dist-packages/keras/backend/tensorflow_backend.py:1033: The name tf.assign_add is deprecated. Please use tf.compat.v1.assign_add instead.\n",
            "\n",
            "WARNING:tensorflow:From /usr/local/lib/python3.6/dist-packages/keras/backend/tensorflow_backend.py:1020: The name tf.assign is deprecated. Please use tf.compat.v1.assign instead.\n",
            "\n",
            "WARNING:tensorflow:From /usr/local/lib/python3.6/dist-packages/keras/backend/tensorflow_backend.py:3005: The name tf.Session is deprecated. Please use tf.compat.v1.Session instead.\n",
            "\n",
            "Train on 60000 samples, validate on 10000 samples\n",
            "Epoch 1/5\n",
            "WARNING:tensorflow:From /usr/local/lib/python3.6/dist-packages/keras/backend/tensorflow_backend.py:190: The name tf.get_default_session is deprecated. Please use tf.compat.v1.get_default_session instead.\n",
            "\n",
            "WARNING:tensorflow:From /usr/local/lib/python3.6/dist-packages/keras/backend/tensorflow_backend.py:197: The name tf.ConfigProto is deprecated. Please use tf.compat.v1.ConfigProto instead.\n",
            "\n",
            "WARNING:tensorflow:From /usr/local/lib/python3.6/dist-packages/keras/backend/tensorflow_backend.py:207: The name tf.global_variables is deprecated. Please use tf.compat.v1.global_variables instead.\n",
            "\n",
            "WARNING:tensorflow:From /usr/local/lib/python3.6/dist-packages/keras/backend/tensorflow_backend.py:216: The name tf.is_variable_initialized is deprecated. Please use tf.compat.v1.is_variable_initialized instead.\n",
            "\n",
            "WARNING:tensorflow:From /usr/local/lib/python3.6/dist-packages/keras/backend/tensorflow_backend.py:223: The name tf.variables_initializer is deprecated. Please use tf.compat.v1.variables_initializer instead.\n",
            "\n",
            " - 11s - loss: 0.2454 - acc: 0.9251 - val_loss: 0.1020 - val_acc: 0.9684\n",
            "Epoch 2/5\n",
            " - 10s - loss: 0.1038 - acc: 0.9683 - val_loss: 0.0774 - val_acc: 0.9759\n",
            "Epoch 3/5\n",
            " - 9s - loss: 0.0722 - acc: 0.9772 - val_loss: 0.0674 - val_acc: 0.9776\n",
            "Epoch 4/5\n",
            " - 9s - loss: 0.0570 - acc: 0.9818 - val_loss: 0.0730 - val_acc: 0.9776\n",
            "Epoch 5/5\n",
            " - 10s - loss: 0.0458 - acc: 0.9849 - val_loss: 0.0643 - val_acc: 0.9815\n"
          ],
          "name": "stdout"
        }
      ]
    },
    {
      "cell_type": "markdown",
      "metadata": {
        "id": "dAs7hx9kQlJk",
        "colab_type": "text"
      },
      "source": [
        "We can easily evaluate the performance of the model as well:"
      ]
    },
    {
      "cell_type": "code",
      "metadata": {
        "id": "Pj0BYMRhQoMD",
        "colab_type": "code",
        "outputId": "6758ddae-a13c-4945-ffab-2f95acb7b49d",
        "colab": {
          "base_uri": "https://localhost:8080/",
          "height": 51
        }
      },
      "source": [
        "score = model.evaluate(X_test, y_test, verbose=0)\n",
        "print('Test loss:', score[0])\n",
        "print('Test accuracy:', score[1])"
      ],
      "execution_count": 0,
      "outputs": [
        {
          "output_type": "stream",
          "text": [
            "Test loss: 0.06425150974661228\n",
            "Test accuracy: 0.9815\n"
          ],
          "name": "stdout"
        }
      ]
    },
    {
      "cell_type": "markdown",
      "metadata": {
        "id": "t_MdCYIhSHxq",
        "colab_type": "text"
      },
      "source": [
        "Pretty good accuracy, right?\n",
        "\n",
        "Can we do even better?\n",
        "\n",
        "Yes we can, using convolutional neural networks (CNNs) (see workshop lecture). Let's build a simple CNN for this problem:"
      ]
    },
    {
      "cell_type": "code",
      "metadata": {
        "id": "EQvV-1cSSqNk",
        "colab_type": "code",
        "outputId": "3eac5892-179f-4d3e-f7d4-41ed0058c4e0",
        "colab": {
          "base_uri": "https://localhost:8080/",
          "height": 71
        }
      },
      "source": [
        "model = Sequential()\n",
        "model.add(Conv2D(32, kernel_size=(3, 3),\n",
        "                 activation='relu',\n",
        "                 input_shape=(28, 28, 1)))\n",
        "model.add(Conv2D(64, (3, 3), activation='relu'))\n",
        "model.add(MaxPooling2D(pool_size=(2, 2)))\n",
        "model.add(Dropout(0.25))\n",
        "model.add(Flatten())\n",
        "model.add(Dense(128, activation='relu'))\n",
        "model.add(Dropout(0.5))\n",
        "model.add(Dense(10, activation='softmax'))"
      ],
      "execution_count": 0,
      "outputs": [
        {
          "output_type": "stream",
          "text": [
            "WARNING:tensorflow:From /usr/local/lib/python3.6/dist-packages/keras/backend/tensorflow_backend.py:4267: The name tf.nn.max_pool is deprecated. Please use tf.nn.max_pool2d instead.\n",
            "\n"
          ],
          "name": "stdout"
        }
      ]
    },
    {
      "cell_type": "markdown",
      "metadata": {
        "id": "qGsV1kNDS2Yc",
        "colab_type": "text"
      },
      "source": [
        "Before we retrain, we have to reshape our data to be able to be input into a CNN, which can take an entire matrix (or series of matrices in the case of RGB color images) as input:\n"
      ]
    },
    {
      "cell_type": "code",
      "metadata": {
        "id": "KL5oR_t-TTzk",
        "colab_type": "code",
        "colab": {}
      },
      "source": [
        "X_train = X_train.reshape(60000, 28, 28, 1)\n",
        "X_test = X_test.reshape(10000, 28, 28, 1)"
      ],
      "execution_count": 0,
      "outputs": []
    },
    {
      "cell_type": "markdown",
      "metadata": {
        "id": "MPbS-HEbUgyz",
        "colab_type": "text"
      },
      "source": [
        "**Exercise 6:** Evaluate the performance of the CNN. Does it perform better than the MLP network? Does it overfit? Hint: you may need to train the network for a few more epochs in order for the performance to converge to its optimum. This waiting is a natural part of the machine learning process."
      ]
    },
    {
      "cell_type": "code",
      "metadata": {
        "id": "dv9MsQgMS6jW",
        "colab_type": "code",
        "outputId": "439dc15c-fc67-4061-e5d1-453b7a50ef50",
        "colab": {
          "base_uri": "https://localhost:8080/",
          "height": 409
        }
      },
      "source": [
        "### YOUR CODE HERE ###\n",
        "\n",
        "# (just to verify)\n",
        "model.compile(loss='categorical_crossentropy', metrics=['accuracy'], optimizer='adam')\n",
        "history = model.fit(X_train, y_train,\n",
        "          batch_size=128, epochs=5,\n",
        "          verbose=2,\n",
        "          validation_data=(X_test, y_test))\n",
        "score = model.evaluate(X_test, y_test, verbose=0)\n",
        "print('Test loss:', score[0])\n",
        "print('Test accuracy:', score[1])"
      ],
      "execution_count": 0,
      "outputs": [
        {
          "output_type": "stream",
          "text": [
            "Train on 60000 samples, validate on 10000 samples\n",
            "Epoch 1/5\n"
          ],
          "name": "stdout"
        },
        {
          "output_type": "error",
          "ename": "KeyboardInterrupt",
          "evalue": "ignored",
          "traceback": [
            "\u001b[0;31m---------------------------------------------------------------------------\u001b[0m",
            "\u001b[0;31mKeyboardInterrupt\u001b[0m                         Traceback (most recent call last)",
            "\u001b[0;32m<ipython-input-52-f8db712349ba>\u001b[0m in \u001b[0;36m<module>\u001b[0;34m()\u001b[0m\n\u001b[1;32m      3\u001b[0m           \u001b[0mbatch_size\u001b[0m\u001b[0;34m=\u001b[0m\u001b[0;36m128\u001b[0m\u001b[0;34m,\u001b[0m \u001b[0mepochs\u001b[0m\u001b[0;34m=\u001b[0m\u001b[0;36m5\u001b[0m\u001b[0;34m,\u001b[0m\u001b[0;34m\u001b[0m\u001b[0;34m\u001b[0m\u001b[0m\n\u001b[1;32m      4\u001b[0m           \u001b[0mverbose\u001b[0m\u001b[0;34m=\u001b[0m\u001b[0;36m2\u001b[0m\u001b[0;34m,\u001b[0m\u001b[0;34m\u001b[0m\u001b[0;34m\u001b[0m\u001b[0m\n\u001b[0;32m----> 5\u001b[0;31m           validation_data=(X_test, y_test))\n\u001b[0m\u001b[1;32m      6\u001b[0m \u001b[0mscore\u001b[0m \u001b[0;34m=\u001b[0m \u001b[0mmodel\u001b[0m\u001b[0;34m.\u001b[0m\u001b[0mevaluate\u001b[0m\u001b[0;34m(\u001b[0m\u001b[0mX_test\u001b[0m\u001b[0;34m,\u001b[0m \u001b[0my_test\u001b[0m\u001b[0;34m,\u001b[0m \u001b[0mverbose\u001b[0m\u001b[0;34m=\u001b[0m\u001b[0;36m0\u001b[0m\u001b[0;34m)\u001b[0m\u001b[0;34m\u001b[0m\u001b[0;34m\u001b[0m\u001b[0m\n\u001b[1;32m      7\u001b[0m \u001b[0mprint\u001b[0m\u001b[0;34m(\u001b[0m\u001b[0;34m'Test loss:'\u001b[0m\u001b[0;34m,\u001b[0m \u001b[0mscore\u001b[0m\u001b[0;34m[\u001b[0m\u001b[0;36m0\u001b[0m\u001b[0;34m]\u001b[0m\u001b[0;34m)\u001b[0m\u001b[0;34m\u001b[0m\u001b[0;34m\u001b[0m\u001b[0m\n",
            "\u001b[0;32m/usr/local/lib/python3.6/dist-packages/keras/engine/training.py\u001b[0m in \u001b[0;36mfit\u001b[0;34m(self, x, y, batch_size, epochs, verbose, callbacks, validation_split, validation_data, shuffle, class_weight, sample_weight, initial_epoch, steps_per_epoch, validation_steps, validation_freq, max_queue_size, workers, use_multiprocessing, **kwargs)\u001b[0m\n\u001b[1;32m   1176\u001b[0m                                         \u001b[0msteps_per_epoch\u001b[0m\u001b[0;34m=\u001b[0m\u001b[0msteps_per_epoch\u001b[0m\u001b[0;34m,\u001b[0m\u001b[0;34m\u001b[0m\u001b[0;34m\u001b[0m\u001b[0m\n\u001b[1;32m   1177\u001b[0m                                         \u001b[0mvalidation_steps\u001b[0m\u001b[0;34m=\u001b[0m\u001b[0mvalidation_steps\u001b[0m\u001b[0;34m,\u001b[0m\u001b[0;34m\u001b[0m\u001b[0;34m\u001b[0m\u001b[0m\n\u001b[0;32m-> 1178\u001b[0;31m                                         validation_freq=validation_freq)\n\u001b[0m\u001b[1;32m   1179\u001b[0m \u001b[0;34m\u001b[0m\u001b[0m\n\u001b[1;32m   1180\u001b[0m     def evaluate(self,\n",
            "\u001b[0;32m/usr/local/lib/python3.6/dist-packages/keras/engine/training_arrays.py\u001b[0m in \u001b[0;36mfit_loop\u001b[0;34m(model, fit_function, fit_inputs, out_labels, batch_size, epochs, verbose, callbacks, val_function, val_inputs, shuffle, callback_metrics, initial_epoch, steps_per_epoch, validation_steps, validation_freq)\u001b[0m\n\u001b[1;32m    202\u001b[0m                     \u001b[0mins_batch\u001b[0m\u001b[0;34m[\u001b[0m\u001b[0mi\u001b[0m\u001b[0;34m]\u001b[0m \u001b[0;34m=\u001b[0m \u001b[0mins_batch\u001b[0m\u001b[0;34m[\u001b[0m\u001b[0mi\u001b[0m\u001b[0;34m]\u001b[0m\u001b[0;34m.\u001b[0m\u001b[0mtoarray\u001b[0m\u001b[0;34m(\u001b[0m\u001b[0;34m)\u001b[0m\u001b[0;34m\u001b[0m\u001b[0;34m\u001b[0m\u001b[0m\n\u001b[1;32m    203\u001b[0m \u001b[0;34m\u001b[0m\u001b[0m\n\u001b[0;32m--> 204\u001b[0;31m                 \u001b[0mouts\u001b[0m \u001b[0;34m=\u001b[0m \u001b[0mfit_function\u001b[0m\u001b[0;34m(\u001b[0m\u001b[0mins_batch\u001b[0m\u001b[0;34m)\u001b[0m\u001b[0;34m\u001b[0m\u001b[0;34m\u001b[0m\u001b[0m\n\u001b[0m\u001b[1;32m    205\u001b[0m                 \u001b[0mouts\u001b[0m \u001b[0;34m=\u001b[0m \u001b[0mto_list\u001b[0m\u001b[0;34m(\u001b[0m\u001b[0mouts\u001b[0m\u001b[0;34m)\u001b[0m\u001b[0;34m\u001b[0m\u001b[0;34m\u001b[0m\u001b[0m\n\u001b[1;32m    206\u001b[0m                 \u001b[0;32mfor\u001b[0m \u001b[0ml\u001b[0m\u001b[0;34m,\u001b[0m \u001b[0mo\u001b[0m \u001b[0;32min\u001b[0m \u001b[0mzip\u001b[0m\u001b[0;34m(\u001b[0m\u001b[0mout_labels\u001b[0m\u001b[0;34m,\u001b[0m \u001b[0mouts\u001b[0m\u001b[0;34m)\u001b[0m\u001b[0;34m:\u001b[0m\u001b[0;34m\u001b[0m\u001b[0;34m\u001b[0m\u001b[0m\n",
            "\u001b[0;32m/usr/local/lib/python3.6/dist-packages/keras/backend/tensorflow_backend.py\u001b[0m in \u001b[0;36m__call__\u001b[0;34m(self, inputs)\u001b[0m\n\u001b[1;32m   2977\u001b[0m                     \u001b[0;32mreturn\u001b[0m \u001b[0mself\u001b[0m\u001b[0;34m.\u001b[0m\u001b[0m_legacy_call\u001b[0m\u001b[0;34m(\u001b[0m\u001b[0minputs\u001b[0m\u001b[0;34m)\u001b[0m\u001b[0;34m\u001b[0m\u001b[0;34m\u001b[0m\u001b[0m\n\u001b[1;32m   2978\u001b[0m \u001b[0;34m\u001b[0m\u001b[0m\n\u001b[0;32m-> 2979\u001b[0;31m             \u001b[0;32mreturn\u001b[0m \u001b[0mself\u001b[0m\u001b[0;34m.\u001b[0m\u001b[0m_call\u001b[0m\u001b[0;34m(\u001b[0m\u001b[0minputs\u001b[0m\u001b[0;34m)\u001b[0m\u001b[0;34m\u001b[0m\u001b[0;34m\u001b[0m\u001b[0m\n\u001b[0m\u001b[1;32m   2980\u001b[0m         \u001b[0;32melse\u001b[0m\u001b[0;34m:\u001b[0m\u001b[0;34m\u001b[0m\u001b[0;34m\u001b[0m\u001b[0m\n\u001b[1;32m   2981\u001b[0m             \u001b[0;32mif\u001b[0m \u001b[0mpy_any\u001b[0m\u001b[0;34m(\u001b[0m\u001b[0mis_tensor\u001b[0m\u001b[0;34m(\u001b[0m\u001b[0mx\u001b[0m\u001b[0;34m)\u001b[0m \u001b[0;32mfor\u001b[0m \u001b[0mx\u001b[0m \u001b[0;32min\u001b[0m \u001b[0minputs\u001b[0m\u001b[0;34m)\u001b[0m\u001b[0;34m:\u001b[0m\u001b[0;34m\u001b[0m\u001b[0;34m\u001b[0m\u001b[0m\n",
            "\u001b[0;32m/usr/local/lib/python3.6/dist-packages/keras/backend/tensorflow_backend.py\u001b[0m in \u001b[0;36m_call\u001b[0;34m(self, inputs)\u001b[0m\n\u001b[1;32m   2935\u001b[0m             \u001b[0mfetched\u001b[0m \u001b[0;34m=\u001b[0m \u001b[0mself\u001b[0m\u001b[0;34m.\u001b[0m\u001b[0m_callable_fn\u001b[0m\u001b[0;34m(\u001b[0m\u001b[0;34m*\u001b[0m\u001b[0marray_vals\u001b[0m\u001b[0;34m,\u001b[0m \u001b[0mrun_metadata\u001b[0m\u001b[0;34m=\u001b[0m\u001b[0mself\u001b[0m\u001b[0;34m.\u001b[0m\u001b[0mrun_metadata\u001b[0m\u001b[0;34m)\u001b[0m\u001b[0;34m\u001b[0m\u001b[0;34m\u001b[0m\u001b[0m\n\u001b[1;32m   2936\u001b[0m         \u001b[0;32melse\u001b[0m\u001b[0;34m:\u001b[0m\u001b[0;34m\u001b[0m\u001b[0;34m\u001b[0m\u001b[0m\n\u001b[0;32m-> 2937\u001b[0;31m             \u001b[0mfetched\u001b[0m \u001b[0;34m=\u001b[0m \u001b[0mself\u001b[0m\u001b[0;34m.\u001b[0m\u001b[0m_callable_fn\u001b[0m\u001b[0;34m(\u001b[0m\u001b[0;34m*\u001b[0m\u001b[0marray_vals\u001b[0m\u001b[0;34m)\u001b[0m\u001b[0;34m\u001b[0m\u001b[0;34m\u001b[0m\u001b[0m\n\u001b[0m\u001b[1;32m   2938\u001b[0m         \u001b[0;32mreturn\u001b[0m \u001b[0mfetched\u001b[0m\u001b[0;34m[\u001b[0m\u001b[0;34m:\u001b[0m\u001b[0mlen\u001b[0m\u001b[0;34m(\u001b[0m\u001b[0mself\u001b[0m\u001b[0;34m.\u001b[0m\u001b[0moutputs\u001b[0m\u001b[0;34m)\u001b[0m\u001b[0;34m]\u001b[0m\u001b[0;34m\u001b[0m\u001b[0;34m\u001b[0m\u001b[0m\n\u001b[1;32m   2939\u001b[0m \u001b[0;34m\u001b[0m\u001b[0m\n",
            "\u001b[0;32m/usr/local/lib/python3.6/dist-packages/tensorflow_core/python/client/session.py\u001b[0m in \u001b[0;36m__call__\u001b[0;34m(self, *args, **kwargs)\u001b[0m\n\u001b[1;32m   1470\u001b[0m         ret = tf_session.TF_SessionRunCallable(self._session._session,\n\u001b[1;32m   1471\u001b[0m                                                \u001b[0mself\u001b[0m\u001b[0;34m.\u001b[0m\u001b[0m_handle\u001b[0m\u001b[0;34m,\u001b[0m \u001b[0margs\u001b[0m\u001b[0;34m,\u001b[0m\u001b[0;34m\u001b[0m\u001b[0;34m\u001b[0m\u001b[0m\n\u001b[0;32m-> 1472\u001b[0;31m                                                run_metadata_ptr)\n\u001b[0m\u001b[1;32m   1473\u001b[0m         \u001b[0;32mif\u001b[0m \u001b[0mrun_metadata\u001b[0m\u001b[0;34m:\u001b[0m\u001b[0;34m\u001b[0m\u001b[0;34m\u001b[0m\u001b[0m\n\u001b[1;32m   1474\u001b[0m           \u001b[0mproto_data\u001b[0m \u001b[0;34m=\u001b[0m \u001b[0mtf_session\u001b[0m\u001b[0;34m.\u001b[0m\u001b[0mTF_GetBuffer\u001b[0m\u001b[0;34m(\u001b[0m\u001b[0mrun_metadata_ptr\u001b[0m\u001b[0;34m)\u001b[0m\u001b[0;34m\u001b[0m\u001b[0;34m\u001b[0m\u001b[0m\n",
            "\u001b[0;31mKeyboardInterrupt\u001b[0m: "
          ]
        }
      ]
    },
    {
      "cell_type": "markdown",
      "metadata": {
        "id": "4u0gyHw4Uyvm",
        "colab_type": "text"
      },
      "source": [
        "**Exercise 7 (challenge):** Try different neural network architectures as you see fit. Also try different parameters to feed into the network (these are called \"hyperparameters\"). Can you build a network that performs better than one of the two that we provided? Can you automate the process of finding the optimal parameteres for the neural network using a series of nested for loops?"
      ]
    },
    {
      "cell_type": "code",
      "metadata": {
        "id": "3Jm_p05MRglY",
        "colab_type": "code",
        "colab": {}
      },
      "source": [
        "### YOUR CODE HERE ###\n"
      ],
      "execution_count": 0,
      "outputs": []
    },
    {
      "cell_type": "markdown",
      "metadata": {
        "id": "ijhw0J2mVlMH",
        "colab_type": "text"
      },
      "source": [
        "# Part 3: Parting Words and Common Pitfalls\n",
        "\n",
        "Congrats! You were able to make machines learn using a variety of different methods in a very short period of time. Great work!\n",
        "\n",
        "We note that at the end of the day, \"machine learning\" is just automated complex (and sometimes, simple) statistics. We leave you with a list of common pitfalls in machine learning:\n",
        "\n",
        "1. **Unbalanced datasets:** It is important for you to have an equal number of data points representing each class in both your training and testing datasets. To illustrate this point, imagine if your classifier is supposed to predict \"0\" or \"1\" for having a disease but always predicts \"0\". What would the performance of the network be reported as if the testing set only contained examples labeled as \"0\"? You can mitigate this problem by either upsampling or downsampling the datasets.\n",
        "2. **Overfitting:** If you train your models with data that is not representative of the entire space of possible inputs, the model will not generalize when trying to predict new data that do not resemble the training data. This can also happen if you train your neural network for too many epochs.\n",
        "3. **Ineffective evaluation metrics:** Accuracy is one performance of success of models, but it does not correctly distinguish true positive rates and false positive rates. See the table on the righthand side of [this Wikipedia article](https://en.wikipedia.org/wiki/Confusion_matrix) to see all of the common machine learning metrics used. \n",
        "\n",
        "Cheers,\n",
        "\n",
        "p"
      ]
    }
  ]
}